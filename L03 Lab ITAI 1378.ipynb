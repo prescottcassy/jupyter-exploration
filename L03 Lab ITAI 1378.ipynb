{
 "cells": [
  {
   "cell_type": "markdown",
   "id": "4049b9e4-c765-49f3-b4c5-9322606cf6ee",
   "metadata": {},
   "source": [
    "My first markdown cell in computer vision class."
   ]
  },
  {
   "cell_type": "code",
   "execution_count": 1,
   "id": "06388832-b78b-4768-bc71-d9b7e1fce801",
   "metadata": {},
   "outputs": [
    {
     "name": "stdout",
     "output_type": "stream",
     "text": [
      "Hello, professor!\n"
     ]
    }
   ],
   "source": [
    "print(\"Hello, professor!\")"
   ]
  },
  {
   "cell_type": "code",
   "execution_count": null,
   "id": "c573dd93-bef5-4046-a03f-bc8373e98b80",
   "metadata": {},
   "outputs": [],
   "source": []
  }
 ],
 "metadata": {
  "kernelspec": {
   "display_name": "Python 3 (ipykernel)",
   "language": "python",
   "name": "python3"
  },
  "language_info": {
   "codemirror_mode": {
    "name": "ipython",
    "version": 3
   },
   "file_extension": ".py",
   "mimetype": "text/x-python",
   "name": "python",
   "nbconvert_exporter": "python",
   "pygments_lexer": "ipython3",
   "version": "3.12.7"
  }
 },
 "nbformat": 4,
 "nbformat_minor": 5
}
